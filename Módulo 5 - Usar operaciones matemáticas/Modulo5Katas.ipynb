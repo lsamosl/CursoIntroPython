{
 "cells": [
  {
   "cell_type": "markdown",
   "metadata": {},
   "source": [
    "## Ejercicio 1"
   ]
  },
  {
   "cell_type": "code",
   "execution_count": 3,
   "metadata": {},
   "outputs": [
    {
     "name": "stdout",
     "output_type": "stream",
     "text": [
      "390577533.93\n"
     ]
    }
   ],
   "source": [
    "earth_distance = 149597870\n",
    "jupiter_distance = 778547200\n",
    "\n",
    "distance_between_planets = (jupiter_distance - earth_distance) * 0.621\n",
    "\n",
    "print(distance_between_planets)"
   ]
  },
  {
   "cell_type": "markdown",
   "metadata": {},
   "source": [
    "## Ejercicio 2"
   ]
  },
  {
   "cell_type": "code",
   "execution_count": 8,
   "metadata": {},
   "outputs": [
    {
     "name": "stdout",
     "output_type": "stream",
     "text": [
      "390577533.93\n"
     ]
    }
   ],
   "source": [
    "planet1_distance = int(input('Distance del sol al primer planeta (km)'))\n",
    "planet2_distance = int(input('Distance del sol al segundo planeta (km)'))\n",
    "\n",
    "distance_between_planets = abs((planet2_distance - planet1_distance) * 0.621)\n",
    "\n",
    "print(distance_between_planets)"
   ]
  }
 ],
 "metadata": {
  "interpreter": {
   "hash": "738156ac6230c0e0a0abd1705fb0e6a9cd94a4c1f08675ed4dc54c9d899be4f5"
  },
  "kernelspec": {
   "display_name": "Python 3.10.2 64-bit",
   "language": "python",
   "name": "python3"
  },
  "language_info": {
   "codemirror_mode": {
    "name": "ipython",
    "version": 3
   },
   "file_extension": ".py",
   "mimetype": "text/x-python",
   "name": "python",
   "nbconvert_exporter": "python",
   "pygments_lexer": "ipython3",
   "version": "3.10.2"
  },
  "orig_nbformat": 4
 },
 "nbformat": 4,
 "nbformat_minor": 2
}

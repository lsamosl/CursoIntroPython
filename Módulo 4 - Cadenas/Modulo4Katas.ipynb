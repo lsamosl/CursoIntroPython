{
 "cells": [
  {
   "cell_type": "markdown",
   "metadata": {},
   "source": [
    "## Ejercicio 1"
   ]
  },
  {
   "cell_type": "code",
   "execution_count": null,
   "metadata": {},
   "outputs": [],
   "source": [
    "text = \"\"\"Interesting facts about the Moon. The Moon is Earth's only satellite. There are several interesting facts about the Moon and how it affects life here on Earth. On average, the Moon moves 4cm away from the Earth every year. This yearly drift is not significant enough to cause immediate effects on Earth. The highest daylight temperature of the Moon is 127 C.\"\"\"\n",
    "hints = [\"average\", \"temperature\", \"distance\"]\n",
    "sentences = text.split('. ')\n",
    "\n",
    "for sentence in sentences:\n",
    "    for hint in hints:\n",
    "        if hint in sentence:\n",
    "            print(sentence)\n",
    "            break\n",
    "\n",
    "for sentence in sentences:\n",
    "    for hint in hints:\n",
    "        if hint in sentence:\n",
    "            print(sentence.replace(' C', ' Celsius'))\n",
    "            break"
   ]
  },
  {
   "cell_type": "markdown",
   "metadata": {},
   "source": [
    "## Ejercicio 2"
   ]
  },
  {
   "cell_type": "code",
   "execution_count": 29,
   "metadata": {},
   "outputs": [
    {
     "name": "stdout",
     "output_type": "stream",
     "text": [
      "Gravity Data About: Moon  \n",
      "-------------------------------------------------------------------------------- \n",
      "Planet name: Earth \n",
      "Gravity on Moon: 0.00162 m/s2 \n",
      " \n",
      "\n",
      "\n",
      "Gravity data about: Marte \n",
      "-------------------------------------------------------------------------------- \n",
      "Planet name: Ganímedes\n",
      "Gravity on Marte : 0.00143 m/s2\n",
      "\n",
      "\n",
      "Gravity data about: Marte \n",
      "-------------------------------------------------------------------------------- \n",
      "Planet name: Ganímedes\n",
      "Gravity on Marte : 1.43 m/s2\n",
      "\n"
     ]
    }
   ],
   "source": [
    "name = \"Moon\"\n",
    "gravity = 0.00162\n",
    "planet = \"Earth\"\n",
    "\n",
    "title = f'Gravity data about: {name} '\n",
    "\n",
    "data = f\"\"\"{'-'*80} \n",
    "Planet name: {planet} \n",
    "Gravity on {name}: {round(gravity,5)} m/s2 \n",
    "\"\"\"\n",
    "\n",
    "template = f\"\"\"{title.title()} \n",
    "{data} \n",
    "\"\"\" \n",
    "print(template)\n",
    "\n",
    "name = 'Marte '\n",
    "gravity  = 0.00143\n",
    "planet = 'Ganímedes'\n",
    "\n",
    "new_template = \"\"\"\n",
    "Gravity data about: {name}\n",
    "-------------------------------------------------------------------------------- \n",
    "Planet name: {planet}\n",
    "Gravity on {name}: {gravity} m/s2\n",
    "\"\"\"\n",
    "\n",
    "print(new_template.format(name=name, planet=planet, gravity=round(gravity,5)))\n",
    "print(new_template.format(name=name, planet=planet, gravity=round(gravity*1000,5)))"
   ]
  }
 ],
 "metadata": {
  "interpreter": {
   "hash": "738156ac6230c0e0a0abd1705fb0e6a9cd94a4c1f08675ed4dc54c9d899be4f5"
  },
  "kernelspec": {
   "display_name": "Python 3.10.2 64-bit",
   "language": "python",
   "name": "python3"
  },
  "language_info": {
   "codemirror_mode": {
    "name": "ipython",
    "version": 3
   },
   "file_extension": ".py",
   "mimetype": "text/x-python",
   "name": "python",
   "nbconvert_exporter": "python",
   "pygments_lexer": "ipython3",
   "version": "3.10.2"
  },
  "orig_nbformat": 4
 },
 "nbformat": 4,
 "nbformat_minor": 2
}

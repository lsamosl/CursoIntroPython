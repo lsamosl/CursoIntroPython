{
 "cells": [
  {
   "cell_type": "markdown",
   "metadata": {},
   "source": [
    "## Ejercicio 1"
   ]
  },
  {
   "cell_type": "code",
   "execution_count": 9,
   "metadata": {},
   "outputs": [
    {
     "name": "stdout",
     "output_type": "stream",
     "text": [
      "Number of planets: 8\n",
      "Total of planets: 9  Last planet added:  Pluto\n"
     ]
    }
   ],
   "source": [
    "planets = ['Mercury','Venus','Earth','Mars','Jupiter','Saturn','Uranus','Neptune']\n",
    "print('Number of planets:', len(planets))\n",
    "\n",
    "planets.append('Pluto')\n",
    "print('Total of planets:', len(planets),' Last planet added: ', planets[-1])"
   ]
  },
  {
   "cell_type": "markdown",
   "metadata": {},
   "source": [
    "## Ejercicio 2"
   ]
  },
  {
   "cell_type": "code",
   "execution_count": 12,
   "metadata": {},
   "outputs": [
    {
     "name": "stdout",
     "output_type": "stream",
     "text": [
      "Planets closer than Saturn\n",
      "['Mercury', 'Venus', 'Earth', 'Mars', 'Jupiter']\n",
      "Planets further than Saturn\n",
      "['Uranus', 'Neptune']\n"
     ]
    }
   ],
   "source": [
    "planets = ['Mercury','Venus','Earth','Mars','Jupiter','Saturn','Uranus','Neptune']\n",
    "\n",
    "user_planet = input('Please enter the name of the planet (with a capital letter to start)')\n",
    "\n",
    "planet_index = planets.index(user_planet)\n",
    "\n",
    "print('Planets closer than ' + user_planet)\n",
    "print(planets[0:planet_index])\n",
    "\n",
    "print('Planets further than ' + user_planet)\n",
    "print(planets[planet_index + 1:])"
   ]
  }
 ],
 "metadata": {
  "interpreter": {
   "hash": "738156ac6230c0e0a0abd1705fb0e6a9cd94a4c1f08675ed4dc54c9d899be4f5"
  },
  "kernelspec": {
   "display_name": "Python 3.10.2 64-bit",
   "language": "python",
   "name": "python3"
  },
  "language_info": {
   "codemirror_mode": {
    "name": "ipython",
    "version": 3
   },
   "file_extension": ".py",
   "mimetype": "text/x-python",
   "name": "python",
   "nbconvert_exporter": "python",
   "pygments_lexer": "ipython3",
   "version": "3.10.2"
  },
  "orig_nbformat": 4
 },
 "nbformat": 4,
 "nbformat_minor": 2
}
